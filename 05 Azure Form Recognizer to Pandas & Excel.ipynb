{
 "cells": [
  {
   "cell_type": "markdown",
   "metadata": {},
   "source": [
    "# 05. Azure Form Recognizer results to Pandas & Excel"
   ]
  },
  {
   "cell_type": "markdown",
   "metadata": {},
   "source": [
    "<img src=\"https://docs.microsoft.com/en-us/azure/cognitive-services/form-recognizer/media/tables-example.jpg#lightbox\">"
   ]
  },
  {
   "cell_type": "markdown",
   "metadata": {},
   "source": [
    "> https://docs.microsoft.com/en-us/azure/cognitive-services/form-recognizer/"
   ]
  },
  {
   "cell_type": "code",
   "execution_count": 1,
   "metadata": {},
   "outputs": [
    {
     "data": {
      "text/plain": [
       "'3.6.9 |Anaconda, Inc.| (default, Jul 30 2019, 19:07:31) \\n[GCC 7.3.0]'"
      ]
     },
     "execution_count": 1,
     "metadata": {},
     "output_type": "execute_result"
    }
   ],
   "source": [
    "import sys\n",
    "sys.version"
   ]
  },
  {
   "cell_type": "code",
   "execution_count": 2,
   "metadata": {},
   "outputs": [],
   "source": [
    "import json\n",
    "import time\n",
    "import pandas as pd\n",
    "from requests import get, post"
   ]
  },
  {
   "cell_type": "code",
   "execution_count": 3,
   "metadata": {},
   "outputs": [],
   "source": [
    "def extract_value(value):\n",
    "    \"\"\"\n",
    "    Helper Method to Extract Cell Value from Response\n",
    "    \"\"\"\n",
    "    if value['type'] == 'number':\n",
    "        return value['text']\n",
    "    elif value['type'] == 'string':\n",
    "        return value['valueString']\n",
    "    elif value['type'] == 'date':\n",
    "        return value['valueDate']            \n",
    "    elif value['type'] == 'time':\n",
    "        return value['valueTime']\n",
    "    elif value['type'] == 'phoneNumber':\n",
    "        return value['valuePhoneNumber']\n",
    "    elif value['type'] == 'object':\n",
    "        objectKeys = value['valueObject'].keys();\n",
    "        item_info = \"\" \n",
    "        for ok in objectKeys:\n",
    "            item_info += ok + \":\" + extract_value(value['valueObject'][ok]) + \" \"\n",
    "        return item_info\n",
    "    elif value['type'] == 'array':\n",
    "        itemInfo = \"\"\n",
    "        for item in value[\"valueArray\"]:\n",
    "            itemInfo += extract_value(item) + \"; \"\n",
    "        return itemInfo[:-3] # ; \n",
    "    else:\n",
    "        print(\"Skipping Unsupported Type\")\n",
    "\n",
    "def recognizer2DF(post_url, apim_key, headers, data_bytes, confidence_threshold = 0, query_interval=5):\n",
    "    \"\"\"\n",
    "    Submits Table or Form to recognizer asyncronously and processes the response\n",
    "    queryInterval amount of time to wait between checking whether a job is done\n",
    "    Optional confidence_threshold to deterimine whether to process a extracted feild \n",
    "    \"\"\"\n",
    "    try:\n",
    "        # Submit Async Table Job to Form Recognizer Endpoint \n",
    "        resp = post(url = post_url, data = data_bytes, headers = headers)\n",
    "        if resp.status_code == 202:\n",
    "            # Query Submit Table Job\n",
    "            get_url = resp.headers[\"operation-location\"]\n",
    "            resp = get(url = resp.headers[\"operation-location\"], headers = {\"Ocp-Apim-Subscription-Key\": apim_key})\n",
    "            resp_json = json.loads(resp.text)\n",
    "            while resp_json[\"status\"] == \"running\":\n",
    "                resp = get(url = get_url, headers = {\"Ocp-Apim-Subscription-Key\": apim_key})\n",
    "                resp_json = json.loads(resp.text)\n",
    "                time.sleep(query_interval)\n",
    "            if resp_json[\"status\"] == \"succeeded\":\n",
    "                # Process Documents \n",
    "                docResults = resp_json['analyzeResult']['documentResults']\n",
    "                docs = []\n",
    "                for doc in docResults:\n",
    "                    fields = doc['fields']\n",
    "                    docs.append({key:extract_value(fields[key]) for key in fields.keys() \\\n",
    "                                 if 'confidence' in fields[key] and fields[key]['confidence'] > confidence_threshold}) \n",
    "                return pd.DataFrame(docs)\n",
    "            elif resp_json[\"status\"] == \"failed\":\n",
    "                print(\"Layout analyze failed:\\n%s\" % resp_json)\n",
    "        else:\n",
    "            print(\"POST analyze failed:\\n%s\" % resp.text)     \n",
    "    except Exception as e:\n",
    "        print(\"Code Failed analyze failed:\\n%s\" % str(e))"
   ]
  },
  {
   "cell_type": "code",
   "execution_count": 4,
   "metadata": {},
   "outputs": [],
   "source": [
    "apim_key = \"yourkey\"\n",
    "endpoint =  \"yourendpoint/formrecognizer/v2.1-preview.1/prebuilt/receipt/analyze\""
   ]
  },
  {
   "cell_type": "code",
   "execution_count": 5,
   "metadata": {},
   "outputs": [],
   "source": [
    "source = \"receipt.jpg\""
   ]
  },
  {
   "cell_type": "code",
   "execution_count": 9,
   "metadata": {},
   "outputs": [],
   "source": [
    "headers = {\n",
    "    # Request headers\n",
    "    'Content-Type': 'image/jpeg',\n",
    "    'Ocp-Apim-Subscription-Key': apim_key,\n",
    "}\n",
    "\n",
    "with open(source, \"rb\") as f:\n",
    "    data_bytes = f.read()"
   ]
  },
  {
   "cell_type": "code",
   "execution_count": 10,
   "metadata": {},
   "outputs": [],
   "source": [
    "df = recognizer2DF(endpoint, apim_key, headers, data_bytes)"
   ]
  },
  {
   "cell_type": "code",
   "execution_count": 11,
   "metadata": {},
   "outputs": [
    {
     "data": {
      "text/plain": [
       "MerchantAddress        object\n",
       "MerchantName           object\n",
       "MerchantPhoneNumber    object\n",
       "ReceiptType            object\n",
       "Subtotal               object\n",
       "Tax                    object\n",
       "Tip                    object\n",
       "Total                  object\n",
       "TransactionDate        object\n",
       "TransactionTime        object\n",
       "dtype: object"
      ]
     },
     "execution_count": 11,
     "metadata": {},
     "output_type": "execute_result"
    }
   ],
   "source": [
    "df.dtypes"
   ]
  },
  {
   "cell_type": "code",
   "execution_count": 12,
   "metadata": {},
   "outputs": [
    {
     "data": {
      "text/html": [
       "<div>\n",
       "<style scoped>\n",
       "    .dataframe tbody tr th:only-of-type {\n",
       "        vertical-align: middle;\n",
       "    }\n",
       "\n",
       "    .dataframe tbody tr th {\n",
       "        vertical-align: top;\n",
       "    }\n",
       "\n",
       "    .dataframe thead th {\n",
       "        text-align: right;\n",
       "    }\n",
       "</style>\n",
       "<table border=\"1\" class=\"dataframe\">\n",
       "  <thead>\n",
       "    <tr style=\"text-align: right;\">\n",
       "      <th></th>\n",
       "      <th>MerchantAddress</th>\n",
       "      <th>MerchantName</th>\n",
       "      <th>MerchantPhoneNumber</th>\n",
       "      <th>ReceiptType</th>\n",
       "      <th>Subtotal</th>\n",
       "      <th>Tax</th>\n",
       "      <th>Tip</th>\n",
       "      <th>Total</th>\n",
       "      <th>TransactionDate</th>\n",
       "      <th>TransactionTime</th>\n",
       "    </tr>\n",
       "  </thead>\n",
       "  <tbody>\n",
       "    <tr>\n",
       "      <th>0</th>\n",
       "      <td>123 Main Street Redmond, WA 98052</td>\n",
       "      <td>Contoso Contoso</td>\n",
       "      <td>+19876543210</td>\n",
       "      <td>Itemized</td>\n",
       "      <td>11.70</td>\n",
       "      <td>1.17</td>\n",
       "      <td>1.63</td>\n",
       "      <td>$14.50</td>\n",
       "      <td>2020-06-10</td>\n",
       "      <td>13:59:00</td>\n",
       "    </tr>\n",
       "  </tbody>\n",
       "</table>\n",
       "</div>"
      ],
      "text/plain": [
       "                     MerchantAddress     MerchantName MerchantPhoneNumber  \\\n",
       "0  123 Main Street Redmond, WA 98052  Contoso Contoso        +19876543210   \n",
       "\n",
       "  ReceiptType Subtotal   Tax   Tip   Total TransactionDate TransactionTime  \n",
       "0    Itemized    11.70  1.17  1.63  $14.50      2020-06-10        13:59:00  "
      ]
     },
     "execution_count": 12,
     "metadata": {},
     "output_type": "execute_result"
    }
   ],
   "source": [
    "df.head()"
   ]
  },
  {
   "cell_type": "code",
   "execution_count": 13,
   "metadata": {},
   "outputs": [
    {
     "name": "stdout",
     "output_type": "stream",
     "text": [
      "-rwxrwxrwx 1 root root  236 Jun  2 14:50 extraction.csv\r\n",
      "-rwxrwxrwx 1 root root 5646 Jun  2 14:50 extraction.xlsx\r\n"
     ]
    }
   ],
   "source": [
    "df.to_csv(\"extraction.csv\")\n",
    "df.to_excel(\"extraction.xlsx\")\n",
    "!ls extraction.* -l"
   ]
  },
  {
   "cell_type": "code",
   "execution_count": null,
   "metadata": {},
   "outputs": [],
   "source": []
  }
 ],
 "metadata": {
  "kernelspec": {
   "display_name": "Python 3.6 - AzureML",
   "language": "python",
   "name": "python3-azureml"
  },
  "language_info": {
   "codemirror_mode": {
    "name": "ipython",
    "version": 3
   },
   "file_extension": ".py",
   "mimetype": "text/x-python",
   "name": "python",
   "nbconvert_exporter": "python",
   "pygments_lexer": "ipython3",
   "version": "3.6.9"
  }
 },
 "nbformat": 4,
 "nbformat_minor": 4
}
