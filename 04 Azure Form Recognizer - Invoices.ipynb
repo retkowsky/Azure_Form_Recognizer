{
 "cells": [
  {
   "cell_type": "markdown",
   "metadata": {},
   "source": [
    "# 04. Azure Form Recognizer - Invoices"
   ]
  },
  {
   "cell_type": "markdown",
   "metadata": {},
   "source": [
    "> https://docs.microsoft.com/en-us/azure/cognitive-services/form-recognizer/"
   ]
  },
  {
   "cell_type": "markdown",
   "metadata": {},
   "source": [
    "<img src=\"https://docs.microsoft.com/en-us/azure/cognitive-services/form-recognizer/media/tables-example.jpg#lightbox\">"
   ]
  },
  {
   "cell_type": "code",
   "execution_count": 1,
   "metadata": {},
   "outputs": [],
   "source": [
    "#!pip install azure-ai-formrecognizer --pre"
   ]
  },
  {
   "cell_type": "code",
   "execution_count": 2,
   "metadata": {},
   "outputs": [],
   "source": [
    "import os\n",
    "from azure.core.exceptions import ResourceNotFoundError\n",
    "from azure.ai.formrecognizer import FormRecognizerClient\n",
    "from azure.ai.formrecognizer import FormTrainingClient\n",
    "from azure.core.credentials import AzureKeyCredential"
   ]
  },
  {
   "cell_type": "code",
   "execution_count": 3,
   "metadata": {},
   "outputs": [],
   "source": [
    "endpoint = \"tobereplaced\"\n",
    "key = \"yourkey\""
   ]
  },
  {
   "cell_type": "code",
   "execution_count": 4,
   "metadata": {},
   "outputs": [],
   "source": [
    "form_recognizer_client = FormRecognizerClient(endpoint, AzureKeyCredential(key))\n",
    "form_training_client = FormTrainingClient(endpoint, AzureKeyCredential(key))"
   ]
  },
  {
   "cell_type": "markdown",
   "metadata": {},
   "source": [
    "<img src=\"https://raw.githubusercontent.com/Azure-Samples/cognitive-services-REST-api-samples/master/curl/form-recognizer/simple-invoice.png\">\n"
   ]
  },
  {
   "cell_type": "code",
   "execution_count": 5,
   "metadata": {},
   "outputs": [],
   "source": [
    "invoiceUrl=\"https://raw.githubusercontent.com/Azure-Samples/cognitive-services-REST-api-samples/master/curl/form-recognizer/simple-invoice.png\""
   ]
  },
  {
   "cell_type": "code",
   "execution_count": 6,
   "metadata": {},
   "outputs": [
    {
     "name": "stdout",
     "output_type": "stream",
     "text": [
      "--------Recognizing invoice #1--------\n",
      "Vendor Name: Contoso has confidence= 0.981\n",
      "\n",
      "Vendor Address: 1 Redmond way Suite 6000 Redmond, WA 99243 has confidence= 0.946\n",
      "\n",
      "Customer Name: Microsoft has confidence= 0.981\n",
      "\n",
      "Customer Address: 1020 Enterprise Way Sunnayvale, CA 87659 has confidence= 0.954\n",
      "\n",
      "Customer Address Recipient: Microsoft has confidence= 0.981\n",
      "\n",
      "Invoice Id: 34278587 has confidence= 0.962\n",
      "\n",
      "Invoice Date: 2017-06-18 has confidence= 0.963\n",
      "\n",
      "Due Date: 2017-06-24 has confidence= 0.981\n",
      "\n"
     ]
    }
   ],
   "source": [
    "poller = form_recognizer_client.begin_recognize_invoices_from_url(invoiceUrl)\n",
    "invoices = poller.result()\n",
    "\n",
    "for idx, invoice in enumerate(invoices):\n",
    "    print(\"--------Recognizing invoice #{}--------\".format(idx+1))\n",
    "    vendor_name = invoice.fields.get(\"VendorName\")\n",
    "    if vendor_name:\n",
    "        print(\"Vendor Name: {} has confidence= {}\\n\".format(vendor_name.value, vendor_name.confidence))\n",
    "    vendor_address = invoice.fields.get(\"VendorAddress\")\n",
    "    if vendor_address:\n",
    "        print(\"Vendor Address: {} has confidence= {}\\n\".format(vendor_address.value, vendor_address.confidence))\n",
    "    customer_name = invoice.fields.get(\"CustomerName\")\n",
    "    if customer_name:\n",
    "        print(\"Customer Name: {} has confidence= {}\\n\".format(customer_name.value, customer_name.confidence))\n",
    "    customer_address = invoice.fields.get(\"CustomerAddress\")\n",
    "    if customer_address:\n",
    "        print(\"Customer Address: {} has confidence= {}\\n\".format(customer_address.value, customer_address.confidence))\n",
    "    customer_address_recipient = invoice.fields.get(\"CustomerAddressRecipient\")\n",
    "    if customer_address_recipient:\n",
    "        print(\"Customer Address Recipient: {} has confidence= {}\\n\".format(customer_address_recipient.value, customer_address_recipient.confidence))\n",
    "    invoice_id = invoice.fields.get(\"InvoiceId\")\n",
    "    if invoice_id:\n",
    "        print(\"Invoice Id: {} has confidence= {}\\n\".format(invoice_id.value, invoice_id.confidence))\n",
    "    invoice_date = invoice.fields.get(\"InvoiceDate\")\n",
    "    if invoice_date:\n",
    "        print(\"Invoice Date: {} has confidence= {}\\n\".format(invoice_date.value, invoice_date.confidence))\n",
    "    invoice_total = invoice.fields.get(\"InvoiceTotal\")\n",
    "    if invoice_total:\n",
    "        print(\"Invoice Total: {} has confidence= {}\\n\".format(invoice_total.value, invoice_total.confidence))\n",
    "    due_date = invoice.fields.get(\"DueDate\")\n",
    "    if due_date:\n",
    "        print(\"Due Date: {} has confidence= {}\\n\".format(due_date.value, due_date.confidence))"
   ]
  },
  {
   "cell_type": "code",
   "execution_count": null,
   "metadata": {},
   "outputs": [],
   "source": []
  }
 ],
 "metadata": {
  "kernelspec": {
   "display_name": "Python 3.6 - AzureML",
   "language": "python",
   "name": "python3-azureml"
  },
  "language_info": {
   "codemirror_mode": {
    "name": "ipython",
    "version": 3
   },
   "file_extension": ".py",
   "mimetype": "text/x-python",
   "name": "python",
   "nbconvert_exporter": "python",
   "pygments_lexer": "ipython3",
   "version": "3.6.9"
  }
 },
 "nbformat": 4,
 "nbformat_minor": 4
}
