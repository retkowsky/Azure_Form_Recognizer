{
 "cells": [
  {
   "cell_type": "markdown",
   "metadata": {},
   "source": [
    "# 08. Train a model"
   ]
  },
  {
   "cell_type": "markdown",
   "metadata": {},
   "source": [
    "<img src=\"https://docs.microsoft.com/en-us/azure/cognitive-services/form-recognizer/media/tables-example.jpg#lightbox\">"
   ]
  },
  {
   "cell_type": "code",
   "execution_count": 1,
   "metadata": {},
   "outputs": [
    {
     "data": {
      "text/plain": [
       "'3.6.9 |Anaconda, Inc.| (default, Jul 30 2019, 19:07:31) \\n[GCC 7.3.0]'"
      ]
     },
     "execution_count": 1,
     "metadata": {},
     "output_type": "execute_result"
    }
   ],
   "source": [
    "import sys\n",
    "sys.version"
   ]
  },
  {
   "cell_type": "code",
   "execution_count": 2,
   "metadata": {},
   "outputs": [],
   "source": [
    "from azure.ai.formrecognizer import FormTrainingClient\n",
    "from azure.core.credentials import AzureKeyCredential\n",
    "\n",
    "endpoint = \"tobereplaced\"\n",
    "credential = AzureKeyCredential(\"key\")\n",
    "\n",
    "form_training_client = FormTrainingClient(endpoint, credential)\n",
    "\n",
    "container_sas_url = \"tobereplaced\""
   ]
  },
  {
   "cell_type": "markdown",
   "metadata": {},
   "source": [
    "## Model Training"
   ]
  },
  {
   "cell_type": "code",
   "execution_count": 3,
   "metadata": {},
   "outputs": [],
   "source": [
    "poller = form_training_client.begin_training(\n",
    "    container_sas_url, use_training_labels=False, model_name=\"my Azure Form Recognizer model\"\n",
    ")\n",
    "model = poller.result()"
   ]
  },
  {
   "cell_type": "markdown",
   "metadata": {},
   "source": [
    "## Model results"
   ]
  },
  {
   "cell_type": "code",
   "execution_count": 4,
   "metadata": {},
   "outputs": [
    {
     "name": "stdout",
     "output_type": "stream",
     "text": [
      "Model ID: 2e820bb4-d1fa-41de-9614-c91cc5ad1873\n",
      "Model name: my Azure Form Recognizer model\n",
      "Is composed model?: False\n",
      "Status: ready\n",
      "\n",
      "Training started on: 2021-06-03 11:35:34+00:00\n",
      "Training completed on: 2021-06-03 11:35:55+00:00\n",
      "\n",
      "Recognized fields:\n",
      "The submodel with form type 'form-0' and model ID '2e820bb4-d1fa-41de-9614-c91cc5ad1873' has recognized the following fields: Address:, Charges, Invoice Date, Invoice Due Date, Invoice For:, Invoice Number, Page, VAT ID\n"
     ]
    }
   ],
   "source": [
    "# Custom model information\n",
    "print(\"Model ID: {}\".format(model.model_id))\n",
    "print(\"Model name: {}\".format(model.model_name))\n",
    "print(\"Is composed model?: {}\".format(model.properties.is_composed_model))\n",
    "print(\"Status: {}\".format(model.status))\n",
    "print()\n",
    "print(\"Training started on: {}\".format(model.training_started_on))\n",
    "print(\"Training completed on: {}\".format(model.training_completed_on))\n",
    "\n",
    "print(\"\\nRecognized fields:\")\n",
    "for submodel in model.submodels:\n",
    "    print(\n",
    "        \"The submodel with form type '{}' and model ID '{}' has recognized the following fields: {}\".format(\n",
    "            submodel.form_type, submodel.model_id,\n",
    "            \", \".join(\n",
    "                [\n",
    "                    field.label if field.label else name\n",
    "                    for name, field in submodel.fields.items()\n",
    "                ]\n",
    "            ),\n",
    "        )\n",
    "    )"
   ]
  },
  {
   "cell_type": "code",
   "execution_count": 5,
   "metadata": {},
   "outputs": [
    {
     "name": "stdout",
     "output_type": "stream",
     "text": [
      "Document name: Invoice_1.pdf\n",
      "Document status: succeeded\n",
      "Document page count: 1\n",
      "Document errors: []\n",
      "Document name: Invoice_2.pdf\n",
      "Document status: succeeded\n",
      "Document page count: 1\n",
      "Document errors: []\n",
      "Document name: Invoice_3.pdf\n",
      "Document status: succeeded\n",
      "Document page count: 1\n",
      "Document errors: []\n",
      "Document name: Invoice_4.pdf\n",
      "Document status: succeeded\n",
      "Document page count: 1\n",
      "Document errors: []\n",
      "Document name: Invoice_5.pdf\n",
      "Document status: succeeded\n",
      "Document page count: 1\n",
      "Document errors: []\n",
      "Document name: Invoice_6.pdf\n",
      "Document status: succeeded\n",
      "Document page count: 1\n",
      "Document errors: []\n",
      "Document name: Invoice_7.pdf\n",
      "Document status: succeeded\n",
      "Document page count: 1\n",
      "Document errors: []\n"
     ]
    }
   ],
   "source": [
    "# Training result information\n",
    "for doc in model.training_documents:\n",
    "    print(\"Document name: {}\".format(doc.name))\n",
    "    print(\"Document status: {}\".format(doc.status))\n",
    "    print(\"Document page count: {}\".format(doc.page_count))\n",
    "    print(\"Document errors: {}\".format(doc.errors))"
   ]
  },
  {
   "cell_type": "code",
   "execution_count": null,
   "metadata": {},
   "outputs": [],
   "source": []
  }
 ],
 "metadata": {
  "kernelspec": {
   "display_name": "Python 3.6 - AzureML",
   "language": "python",
   "name": "python3-azureml"
  },
  "language_info": {
   "codemirror_mode": {
    "name": "ipython",
    "version": 3
   },
   "file_extension": ".py",
   "mimetype": "text/x-python",
   "name": "python",
   "nbconvert_exporter": "python",
   "pygments_lexer": "ipython3",
   "version": "3.6.9"
  }
 },
 "nbformat": 4,
 "nbformat_minor": 4
}
