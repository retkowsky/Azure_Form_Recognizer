{
 "cells": [
  {
   "cell_type": "markdown",
   "metadata": {},
   "source": [
    "# 01. Azure Form Recognizer - Layouts"
   ]
  },
  {
   "cell_type": "markdown",
   "metadata": {},
   "source": [
    "<img src=\"https://docs.microsoft.com/en-us/azure/cognitive-services/form-recognizer/media/tables-example.jpg#lightbox\">"
   ]
  },
  {
   "cell_type": "markdown",
   "metadata": {},
   "source": [
    "> https://docs.microsoft.com/en-us/azure/cognitive-services/form-recognizer/"
   ]
  },
  {
   "cell_type": "markdown",
   "metadata": {},
   "source": [
    "## Create a Form Recognizer resource\n",
    "\n",
    ">**Note:** You can either use a Cognitive Service resource or a Form Recognizer resource to access Form Recognizer services. \n",
    "\n",
    "To create a Form Recognizer resource in your Azure subscription:\n",
    "\n",
    "1. In another browser tab, open the Azure portal at https://portal.azure.com, signing in with your Microsoft account.\n",
    "2. Select **+ Create a resource**, and search for *Form Recognizer*.\n",
    "3. In the list of services, select **Form Recognizer**.\n",
    "4. In the **Form Recognizer** blade, select **Create**.\n",
    "5. In the **Create** blade, enter the following details and select **Create**\n",
    "   - **Name**: A unique name for your service\n",
    "   - **Subscription**: Your Azure subscription\n",
    "   - **Region**: Any available region\n",
    "   - **Pricing tier**: F0\n",
    "   - **Resource Group**: The existing resource group you used previously\n",
    "   - **I confirm I have read and understood the notice below**: Selected.\n",
    "6. Wait for the service to be created.\n",
    "7. View your newly created Form Recognizer service in the Azure portal and on the **Keys and Endpoint** page, copy the **Key1** and **Endpoint** values and paste them in the code cell below, replacing **YOUR_FORM_KEY** and **YOUR_FORM_ENDPOINT**."
   ]
  },
  {
   "cell_type": "code",
   "execution_count": 1,
   "metadata": {},
   "outputs": [],
   "source": [
    "#!pip install azure-ai-formrecognizer --pre"
   ]
  },
  {
   "cell_type": "code",
   "execution_count": 2,
   "metadata": {},
   "outputs": [
    {
     "data": {
      "text/plain": [
       "'3.6.9 |Anaconda, Inc.| (default, Jul 30 2019, 19:07:31) \\n[GCC 7.3.0]'"
      ]
     },
     "execution_count": 2,
     "metadata": {},
     "output_type": "execute_result"
    }
   ],
   "source": [
    "import sys\n",
    "sys.version"
   ]
  },
  {
   "cell_type": "code",
   "execution_count": 3,
   "metadata": {},
   "outputs": [],
   "source": [
    "import os\n",
    "from azure.core.exceptions import ResourceNotFoundError\n",
    "from azure.ai.formrecognizer import FormRecognizerClient\n",
    "from azure.ai.formrecognizer import FormTrainingClient\n",
    "from azure.core.credentials import AzureKeyCredential"
   ]
  },
  {
   "cell_type": "code",
   "execution_count": 4,
   "metadata": {},
   "outputs": [],
   "source": [
    "endpoint = \"tobereplaced\"\n",
    "key = \"yourkey\""
   ]
  },
  {
   "cell_type": "code",
   "execution_count": 5,
   "metadata": {},
   "outputs": [],
   "source": [
    "form_recognizer_client = FormRecognizerClient(endpoint, AzureKeyCredential(key))\n",
    "form_training_client = FormTrainingClient(endpoint, AzureKeyCredential(key))"
   ]
  },
  {
   "cell_type": "code",
   "execution_count": 6,
   "metadata": {},
   "outputs": [],
   "source": [
    "formUrl='https://raw.githubusercontent.com/Azure/azure-sdk-for-python/master/sdk/formrecognizer/azure-ai-formrecognizer/tests/sample_forms/forms/Form_1.jpg'"
   ]
  },
  {
   "cell_type": "code",
   "execution_count": 7,
   "metadata": {},
   "outputs": [
    {
     "name": "stdout",
     "output_type": "stream",
     "text": [
      "Table found on page 1:\n",
      "Cell text: Details\n",
      "Location: [Point(x=156.0, y=1037.0), Point(x=847.0, y=1037.0), Point(x=847.0, y=1086.0), Point(x=156.0, y=1086.0)]\n",
      "Confidence score= 1.0\n",
      "\n",
      "Cell text: Quantity\n",
      "Location: [Point(x=847.0, y=1037.0), Point(x=1071.0, y=1038.0), Point(x=1071.0, y=1086.0), Point(x=847.0, y=1086.0)]\n",
      "Confidence score= 1.0\n",
      "\n",
      "Cell text: Unit Price\n",
      "Location: [Point(x=1071.0, y=1038.0), Point(x=1309.0, y=1038.0), Point(x=1309.0, y=1086.0), Point(x=1071.0, y=1086.0)]\n",
      "Confidence score= 1.0\n",
      "\n",
      "Cell text: Total\n",
      "Location: [Point(x=1309.0, y=1038.0), Point(x=1543.0, y=1038.0), Point(x=1543.0, y=1086.0), Point(x=1309.0, y=1086.0)]\n",
      "Confidence score= 1.0\n",
      "\n",
      "Cell text: Bindings\n",
      "Location: [Point(x=156.0, y=1086.0), Point(x=847.0, y=1086.0), Point(x=847.0, y=1127.0), Point(x=156.0, y=1127.0)]\n",
      "Confidence score= 1.0\n",
      "\n",
      "Cell text: 20\n",
      "Location: [Point(x=847.0, y=1086.0), Point(x=1071.0, y=1086.0), Point(x=1071.0, y=1127.0), Point(x=847.0, y=1127.0)]\n",
      "Confidence score= 1.0\n",
      "\n",
      "Cell text: 1.00\n",
      "Location: [Point(x=1071.0, y=1086.0), Point(x=1309.0, y=1086.0), Point(x=1309.0, y=1127.0), Point(x=1071.0, y=1127.0)]\n",
      "Confidence score= 1.0\n",
      "\n",
      "Cell text: 20.00\n",
      "Location: [Point(x=1309.0, y=1086.0), Point(x=1543.0, y=1086.0), Point(x=1543.0, y=1127.0), Point(x=1309.0, y=1127.0)]\n",
      "Confidence score= 1.0\n",
      "\n",
      "Cell text: Covers Small\n",
      "Location: [Point(x=156.0, y=1127.0), Point(x=847.0, y=1127.0), Point(x=847.0, y=1171.0), Point(x=156.0, y=1171.0)]\n",
      "Confidence score= 1.0\n",
      "\n",
      "Cell text: 20\n",
      "Location: [Point(x=847.0, y=1127.0), Point(x=1071.0, y=1127.0), Point(x=1071.0, y=1171.0), Point(x=847.0, y=1171.0)]\n",
      "Confidence score= 1.0\n",
      "\n",
      "Cell text: 1.00\n",
      "Location: [Point(x=1071.0, y=1127.0), Point(x=1309.0, y=1127.0), Point(x=1309.0, y=1171.0), Point(x=1071.0, y=1171.0)]\n",
      "Confidence score= 1.0\n",
      "\n",
      "Cell text: 20.00\n",
      "Location: [Point(x=1309.0, y=1127.0), Point(x=1543.0, y=1127.0), Point(x=1543.0, y=1171.0), Point(x=1309.0, y=1171.0)]\n",
      "Confidence score= 1.0\n",
      "\n",
      "Cell text: Feather Bookmark\n",
      "Location: [Point(x=156.0, y=1171.0), Point(x=847.0, y=1171.0), Point(x=847.0, y=1214.0), Point(x=156.0, y=1214.0)]\n",
      "Confidence score= 1.0\n",
      "\n",
      "Cell text: 20\n",
      "Location: [Point(x=847.0, y=1171.0), Point(x=1071.0, y=1171.0), Point(x=1071.0, y=1214.0), Point(x=847.0, y=1214.0)]\n",
      "Confidence score= 1.0\n",
      "\n",
      "Cell text: 5.00\n",
      "Location: [Point(x=1071.0, y=1171.0), Point(x=1309.0, y=1171.0), Point(x=1309.0, y=1214.0), Point(x=1071.0, y=1214.0)]\n",
      "Confidence score= 1.0\n",
      "\n",
      "Cell text: 100.00\n",
      "Location: [Point(x=1309.0, y=1171.0), Point(x=1543.0, y=1171.0), Point(x=1543.0, y=1215.0), Point(x=1309.0, y=1214.0)]\n",
      "Confidence score= 1.0\n",
      "\n",
      "Cell text: Copper Swirl Marker\n",
      "Location: [Point(x=156.0, y=1214.0), Point(x=847.0, y=1214.0), Point(x=847.0, y=1258.0), Point(x=156.0, y=1258.0)]\n",
      "Confidence score= 1.0\n",
      "\n",
      "Cell text: 20\n",
      "Location: [Point(x=847.0, y=1214.0), Point(x=1071.0, y=1214.0), Point(x=1071.0, y=1258.0), Point(x=847.0, y=1258.0)]\n",
      "Confidence score= 1.0\n",
      "\n",
      "Cell text: 5.00\n",
      "Location: [Point(x=1071.0, y=1214.0), Point(x=1309.0, y=1214.0), Point(x=1309.0, y=1258.0), Point(x=1071.0, y=1258.0)]\n",
      "Confidence score= 1.0\n",
      "\n",
      "Cell text: 100.00\n",
      "Location: [Point(x=1309.0, y=1214.0), Point(x=1543.0, y=1215.0), Point(x=1543.0, y=1260.0), Point(x=1309.0, y=1258.0)]\n",
      "Confidence score= 1.0\n",
      "\n"
     ]
    }
   ],
   "source": [
    "poller = form_recognizer_client.begin_recognize_content_from_url(formUrl)\n",
    "page = poller.result()\n",
    "\n",
    "table = page[0].tables[0] # page 1, table 1\n",
    "\n",
    "print(\"Table found on page {}:\".format(table.page_number))\n",
    "for cell in table.cells:\n",
    "    print(\"Cell text: {}\".format(cell.text))\n",
    "    print(\"Location: {}\".format(cell.bounding_box))\n",
    "    print(\"Confidence score= {}\\n\".format(cell.confidence))"
   ]
  },
  {
   "cell_type": "code",
   "execution_count": null,
   "metadata": {},
   "outputs": [],
   "source": []
  }
 ],
 "metadata": {
  "kernelspec": {
   "display_name": "Python 3.6 - AzureML",
   "language": "python",
   "name": "python3-azureml"
  },
  "language_info": {
   "codemirror_mode": {
    "name": "ipython",
    "version": 3
   },
   "file_extension": ".py",
   "mimetype": "text/x-python",
   "name": "python",
   "nbconvert_exporter": "python",
   "pygments_lexer": "ipython3",
   "version": "3.6.9"
  }
 },
 "nbformat": 4,
 "nbformat_minor": 4
}
