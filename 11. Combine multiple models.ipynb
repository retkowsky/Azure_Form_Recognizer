{
 "cells": [
  {
   "cell_type": "markdown",
   "metadata": {},
   "source": [
    "# 11. Combine multiple models"
   ]
  },
  {
   "cell_type": "code",
   "execution_count": 1,
   "metadata": {},
   "outputs": [
    {
     "data": {
      "text/plain": "'3.8.1 (tags/v3.8.1:1b293b6, Dec 18 2019, 23:11:46) [MSC v.1916 64 bit (AMD64)]'"
     },
     "execution_count": 1,
     "metadata": {},
     "output_type": "execute_result"
    }
   ],
   "source": [
    "import sys\n",
    "sys.version"
   ]
  },
  {
   "cell_type": "code",
   "execution_count": 7,
   "metadata": {},
   "outputs": [],
   "source": [
    "from azure.ai.formrecognizer import FormTrainingClient\r\n",
    "from azure.core.credentials import AzureKeyCredential\r\n",
    "\r\n",
    "endpoint = \"tobereplaced\"\r\n",
    "key = \"key\"\r\n",
    "model_ids = [\"model_id_1\",\"model_id_2\",\"model_id_3\"]\r\n",
    "composed_model_name = \"yourname\"\r\n",
    "\r\n",
    "form_recognizer_client = FormTrainingClient(endpoint, credential=AzureKeyCredential(key))"
   ]
  },
  {
   "cell_type": "markdown",
   "metadata": {},
   "source": [
    "## Create composed model"
   ]
  },
  {
   "cell_type": "code",
   "execution_count": 8,
   "metadata": {},
   "outputs": [],
   "source": [
    "poller = form_recognizer_client.begin_create_composed_model(\r\n",
    "    model_ids, model_name=composed_model_name\r\n",
    ")"
   ]
  },
  {
   "cell_type": "markdown",
   "metadata": {},
   "source": [
    "## Model results"
   ]
  },
  {
   "cell_type": "code",
   "execution_count": 9,
   "metadata": {},
   "outputs": [
    {
     "name": "stdout",
     "output_type": "stream",
     "text": [
      "Model ID: 272f30ba-b860-4f79-8bce-e29f1ff657c9\n",
      "Model name: yourname\n",
      "Is this a composed model?: True\n",
      "Status: ready\n",
      "Composed model creation started on: 2021-06-03 14:43:37+00:00\n",
      "Creation completed on: 2021-06-03 14:43:38+00:00\n"
     ]
    }
   ],
   "source": [
    "model= poller.result()\r\n",
    "\r\n",
    "print(\"Model ID: {}\".format(model.model_id))\r\n",
    "print(\"Model name: {}\".format(model.model_name))\r\n",
    "print(\"Is this a composed model?: {}\".format(model.properties.is_composed_model))\r\n",
    "print(\"Status: {}\".format(model.status))\r\n",
    "print(\"Composed model creation started on: {}\".format(model.training_started_on))\r\n",
    "print(\"Creation completed on: {}\".format(model.training_completed_on))"
   ]
  }
 ],
 "metadata": {
  "kernelspec": {
   "display_name": "Python 3.8.1 64-bit",
   "name": "python381jvsc74a57bd056ac58065b2266701679218e106e5dd7d4401c2eb4a42bc1d3e1b09ef3d7be68"
  },
  "language_info": {
   "codemirror_mode": {
    "name": "ipython",
    "version": 3
   },
   "file_extension": ".py",
   "mimetype": "text/x-python",
   "name": "python",
   "nbconvert_exporter": "python",
   "pygments_lexer": "ipython3",
   "version": "3.8.1"
  },
  "metadata": {
   "interpreter": {
    "hash": "56ac58065b2266701679218e106e5dd7d4401c2eb4a42bc1d3e1b09ef3d7be68"
   }
  },
  "orig_nbformat": 3
 },
 "nbformat": 4,
 "nbformat_minor": 4
}
