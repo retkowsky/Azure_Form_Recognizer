{
 "cells": [
  {
   "cell_type": "markdown",
   "metadata": {},
   "source": [
    "# 09. Manage models"
   ]
  },
  {
   "cell_type": "markdown",
   "metadata": {},
   "source": [
    "<img src=\"https://docs.microsoft.com/en-us/azure/cognitive-services/form-recognizer/media/tables-example.jpg#lightbox\">"
   ]
  },
  {
   "cell_type": "code",
   "execution_count": 3,
   "metadata": {},
   "outputs": [
    {
     "data": {
      "text/plain": [
       "'3.6.9 |Anaconda, Inc.| (default, Jul 30 2019, 19:07:31) \\n[GCC 7.3.0]'"
      ]
     },
     "execution_count": 3,
     "metadata": {},
     "output_type": "execute_result"
    }
   ],
   "source": [
    "import sys\n",
    "sys.version"
   ]
  },
  {
   "cell_type": "code",
   "execution_count": 4,
   "metadata": {},
   "outputs": [
    {
     "name": "stdout",
     "output_type": "stream",
     "text": [
      "Our account has 10 custom models, and we can have at most 20000 custom models\n",
      "We have models with the following ids: 0332e4b4-1f96-4f59-98aa-16f3c477a7b8, 099053fa-faf6-488b-93aa-ed67fc6f9221, 47abd12c-1f83-41e5-85a3-1ce36cca46b2, 6a75f128-ef4e-427c-a8e7-f1790abaaa38, 98c7eeaf-d0d0-4cf3-969d-2ddd1d9f090d, 9ed2e259-33eb-48c7-9b95-ae2e39708e85, cbf0dbb2-8fef-4888-8a70-45ec8c5e0d1b, d126c8ce-c6d4-459a-9fcf-b0d650a68300, f5f71755-f8ab-4bb7-b779-ce94e114b860, f78d9bfb-0e7e-4c23-8abf-c4ed629d5a67\n",
      "\n",
      "Model ID: 6a75f128-ef4e-427c-a8e7-f1790abaaa38\n",
      "Model name: FormsModel\n",
      "Is composed model? False\n",
      "Status: ready\n",
      "Training started on: 2021-06-03 11:27:44+00:00\n",
      "Training completed on: 2021-06-03 11:27:46+00:00\n"
     ]
    }
   ],
   "source": [
    "from azure.ai.formrecognizer import FormTrainingClient\n",
    "from azure.core.credentials import AzureKeyCredential\n",
    "from azure.core.exceptions import ResourceNotFoundError\n",
    "\n",
    "endpoint = \"tobereplaced\"\n",
    "credential = AzureKeyCredential(\"key\")\n",
    "\n",
    "form_training_client = FormTrainingClient(endpoint, credential)\n",
    "\n",
    "account_properties = form_training_client.get_account_properties()\n",
    "print(\"Our account has {} custom models, and we can have at most {} custom models\".format(\n",
    "    account_properties.custom_model_count, account_properties.custom_model_limit\n",
    "))\n",
    "\n",
    "# Here we get a paged list of all of our custom models\n",
    "custom_models = form_training_client.list_custom_models()\n",
    "print(\"We have models with the following ids: {}\".format(\n",
    "    \", \".join([m.model_id for m in custom_models])\n",
    "))\n",
    "\n",
    "# Replace with the custom model ID from the \"Train a model\" sample\n",
    "model_id = \"6a75f128-ef4e-427c-a8e7-f1790abaaa38\"\n",
    "\n",
    "print()\n",
    "custom_model = form_training_client.get_custom_model(model_id=model_id)\n",
    "print(\"Model ID: {}\".format(custom_model.model_id))\n",
    "print(\"Model name: {}\".format(custom_model.model_name))\n",
    "print(\"Is composed model? {}\".format(custom_model.properties.is_composed_model))\n",
    "print(\"Status: {}\".format(custom_model.status))\n",
    "print(\"Training started on: {}\".format(custom_model.training_started_on))\n",
    "print(\"Training completed on: {}\".format(custom_model.training_completed_on))"
   ]
  },
  {
   "cell_type": "code",
   "execution_count": 6,
   "metadata": {},
   "outputs": [
    {
     "name": "stdout",
     "output_type": "stream",
     "text": [
      "Successfully deleted model with id 6a75f128-ef4e-427c-a8e7-f1790abaaa38\n"
     ]
    }
   ],
   "source": [
    "# Finally, we will delete this model by ID\n",
    "form_training_client.delete_model(model_id=custom_model.model_id)\n",
    "\n",
    "try:\n",
    "    form_training_client.get_custom_model(model_id=custom_model.model_id)\n",
    "except ResourceNotFoundError:\n",
    "    print(\"Successfully deleted model with id {}\".format(custom_model.model_id))"
   ]
  },
  {
   "cell_type": "code",
   "execution_count": null,
   "metadata": {},
   "outputs": [],
   "source": []
  }
 ],
 "metadata": {
  "kernelspec": {
   "display_name": "Python 3.6 - AzureML",
   "language": "python",
   "name": "python3-azureml"
  },
  "language_info": {
   "codemirror_mode": {
    "name": "ipython",
    "version": 3
   },
   "file_extension": ".py",
   "mimetype": "text/x-python",
   "name": "python",
   "nbconvert_exporter": "python",
   "pygments_lexer": "ipython3",
   "version": "3.6.9"
  }
 },
 "nbformat": 4,
 "nbformat_minor": 4
}
