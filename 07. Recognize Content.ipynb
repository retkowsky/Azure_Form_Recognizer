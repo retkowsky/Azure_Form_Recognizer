{
 "cells": [
  {
   "cell_type": "markdown",
   "metadata": {},
   "source": [
    "# 07. Recognize Content"
   ]
  },
  {
   "cell_type": "markdown",
   "metadata": {},
   "source": [
    "<img src=\"https://docs.microsoft.com/en-us/azure/cognitive-services/form-recognizer/media/tables-example.jpg#lightbox\">"
   ]
  },
  {
   "cell_type": "code",
   "execution_count": 3,
   "metadata": {},
   "outputs": [
    {
     "data": {
      "text/plain": [
       "'3.6.9 |Anaconda, Inc.| (default, Jul 30 2019, 19:07:31) \\n[GCC 7.3.0]'"
      ]
     },
     "execution_count": 3,
     "metadata": {},
     "output_type": "execute_result"
    }
   ],
   "source": [
    "import sys\n",
    "sys.version"
   ]
  },
  {
   "cell_type": "code",
   "execution_count": 6,
   "metadata": {},
   "outputs": [
    {
     "name": "stdout",
     "output_type": "stream",
     "text": [
      "Table found on page 1:\n",
      "Table location [Point(x=0.4981, y=2.7802), Point(x=7.4935, y=2.7817), Point(x=7.4916, y=3.8459), Point(x=0.4963, y=3.8448)]:\n",
      "Cell text: Invoice Number\n",
      "Location: [Point(x=0.4992, y=2.7829), Point(x=1.8978, y=2.79), Point(x=1.8978, y=3.3181), Point(x=0.5064, y=3.3181)]\n",
      "Confidence score: 1.0\n",
      "\n",
      "Cell text: Invoice Date\n",
      "Location: [Point(x=1.8978, y=2.79), Point(x=3.3036, y=2.79), Point(x=3.3036, y=3.3181), Point(x=1.8978, y=3.3181)]\n",
      "Confidence score: 1.0\n",
      "\n",
      "Cell text: Invoice Due Date\n",
      "Location: [Point(x=3.3036, y=2.79), Point(x=4.7022, y=2.79), Point(x=4.7022, y=3.3181), Point(x=3.3036, y=3.3181)]\n",
      "Confidence score: 1.0\n",
      "\n",
      "Cell text: Charges\n",
      "Location: [Point(x=4.7022, y=2.79), Point(x=6.1008, y=2.79), Point(x=6.1008, y=3.3181), Point(x=4.7022, y=3.3181)]\n",
      "Confidence score: 1.0\n",
      "\n",
      "Cell text: VAT ID\n",
      "Location: [Point(x=6.1008, y=2.79), Point(x=7.4994, y=2.79), Point(x=7.4994, y=3.3181), Point(x=6.1008, y=3.3181)]\n",
      "Confidence score: 1.0\n",
      "\n",
      "Cell text: 7689302\n",
      "Location: [Point(x=0.5064, y=3.3181), Point(x=1.8978, y=3.3181), Point(x=1.8978, y=3.8534), Point(x=0.5064, y=3.8534)]\n",
      "Confidence score: 1.0\n",
      "\n",
      "Cell text: 3/09/2015\n",
      "Location: [Point(x=1.8978, y=3.3181), Point(x=3.3036, y=3.3181), Point(x=3.3036, y=3.8534), Point(x=1.8978, y=3.8534)]\n",
      "Confidence score: 1.0\n",
      "\n",
      "Cell text: 6/29/2016\n",
      "Location: [Point(x=3.3036, y=3.3181), Point(x=4.7022, y=3.3181), Point(x=4.7022, y=3.8534), Point(x=3.3036, y=3.8534)]\n",
      "Confidence score: 1.0\n",
      "\n",
      "Cell text: $22,123.24\n",
      "Location: [Point(x=4.7022, y=3.3181), Point(x=6.1008, y=3.3181), Point(x=6.1008, y=3.8534), Point(x=4.7022, y=3.8534)]\n",
      "Confidence score: 1.0\n",
      "\n",
      "Cell text: QR\n",
      "Location: [Point(x=6.1008, y=3.3181), Point(x=7.4994, y=3.3181), Point(x=7.4994, y=3.8534), Point(x=6.1008, y=3.8534)]\n",
      "Confidence score: 1.0\n",
      "\n"
     ]
    }
   ],
   "source": [
    "from azure.ai.formrecognizer import FormRecognizerClient\n",
    "from azure.core.credentials import AzureKeyCredential\n",
    "\n",
    "endpoint = \"tobereplaced\"\n",
    "credential = AzureKeyCredential(\"key\")\n",
    "\n",
    "form_recognizer_client = FormRecognizerClient(endpoint, credential)\n",
    "\n",
    "with open(\"Invoice Test (1).pdf\", \"rb\") as fd:\n",
    "    form = fd.read()\n",
    "\n",
    "poller = form_recognizer_client.begin_recognize_content(form)\n",
    "form_pages = poller.result()\n",
    "\n",
    "for content in form_pages:\n",
    "    for table in content.tables:\n",
    "        print(\"Table found on page {}:\".format(table.page_number))\n",
    "        print(\"Table location {}:\".format(table.bounding_box))\n",
    "        for cell in table.cells:\n",
    "            print(\"Cell text: {}\".format(cell.text))\n",
    "            print(\"Location: {}\".format(cell.bounding_box))\n",
    "            print(\"Confidence score: {}\\n\".format(cell.confidence))\n",
    "\n",
    "    if content.selection_marks:\n",
    "        print(\"Selection marks found on page {}:\".format(content.page_number))\n",
    "        for selection_mark in content.selection_marks:\n",
    "            print(\"Selection mark is '{}' within bounding box '{}' and has a confidence of {}\".format(\n",
    "                selection_mark.state,\n",
    "                selection_mark.bounding_box,\n",
    "                selection_mark.confidence\n",
    "            ))"
   ]
  },
  {
   "cell_type": "code",
   "execution_count": null,
   "metadata": {},
   "outputs": [],
   "source": []
  }
 ],
 "metadata": {
  "kernelspec": {
   "display_name": "Python 3.6 - AzureML",
   "language": "python",
   "name": "python3-azureml"
  },
  "language_info": {
   "codemirror_mode": {
    "name": "ipython",
    "version": 3
   },
   "file_extension": ".py",
   "mimetype": "text/x-python",
   "name": "python",
   "nbconvert_exporter": "python",
   "pygments_lexer": "ipython3",
   "version": "3.6.9"
  }
 },
 "nbformat": 4,
 "nbformat_minor": 4
}
