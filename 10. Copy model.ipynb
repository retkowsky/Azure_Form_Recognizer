{
 "cells": [
  {
   "cell_type": "markdown",
   "metadata": {},
   "source": [
    "# 08. Train a model"
   ]
  },
  {
   "cell_type": "code",
   "execution_count": 1,
   "metadata": {},
   "outputs": [
    {
     "data": {
      "text/plain": "'3.8.1 (tags/v3.8.1:1b293b6, Dec 18 2019, 23:11:46) [MSC v.1916 64 bit (AMD64)]'"
     },
     "execution_count": 1,
     "metadata": {},
     "output_type": "execute_result"
    }
   ],
   "source": [
    "import sys\n",
    "sys.version"
   ]
  },
  {
   "cell_type": "code",
   "execution_count": 17,
   "metadata": {},
   "outputs": [],
   "source": [
    "from azure.ai.formrecognizer import FormTrainingClient\r\n",
    "from azure.core.credentials import AzureKeyCredential\r\n",
    "\r\n",
    "source_endpoint = \"tobereplaced\"\r\n",
    "source_key = \"key\"\r\n",
    "target_endpoint = \"tobereplaced\"\r\n",
    "target_key = \"key\"\r\n",
    "\r\n",
    "source_model_id = \"tobereplaced\"\r\n",
    "target_region = \"tobereplaced\"\r\n",
    "target_resource_id = \"tobereplaced\"\r\n",
    "\r\n",
    "# Create clients for Form Recognizer resources\r\n",
    "target_client = FormTrainingClient(endpoint=target_endpoint, credential=AzureKeyCredential(target_key))\r\n",
    "source_client = FormTrainingClient(endpoint=source_endpoint, credential=AzureKeyCredential(source_key))"
   ]
  },
  {
   "cell_type": "markdown",
   "metadata": {},
   "source": [
    "## Get Authorization for copy from Target resource"
   ]
  },
  {
   "cell_type": "code",
   "execution_count": 13,
   "metadata": {},
   "outputs": [
    {
     "name": "stdout",
     "output_type": "stream",
     "text": [
      "Model ID: 3d2f5127-823b-4d44-82b7-8e62189ff143\n"
     ]
    }
   ],
   "source": [
    "target = target_client.get_copy_authorization(\r\n",
    "    resource_region=target_region,\r\n",
    "    resource_id=target_resource_id\r\n",
    ")\r\n",
    "\r\n",
    "# model ID that target client will use to access the model once copy is complete\r\n",
    "print(\"Model ID: {}\".format(target[\"modelId\"]))"
   ]
  },
  {
   "cell_type": "markdown",
   "metadata": {},
   "source": [
    "## Copy Model"
   ]
  },
  {
   "cell_type": "code",
   "execution_count": 14,
   "metadata": {},
   "outputs": [
    {
     "name": "stdout",
     "output_type": "stream",
     "text": [
      "Model ID: 3d2f5127-823b-4d44-82b7-8e62189ff143\n",
      "Status: ready\n"
     ]
    }
   ],
   "source": [
    "poller = source_client.begin_copy_model(\r\n",
    "            model_id=source_model_id,\r\n",
    "            target=target  # output from target client's call to get_copy_authorization()\r\n",
    "        )\r\n",
    "copied_over_model = poller.result()\r\n",
    "\r\n",
    "print(\"Model ID: {}\".format(copied_over_model.model_id))\r\n",
    "print(\"Status: {}\".format(copied_over_model.status))"
   ]
  }
 ],
 "metadata": {
  "kernelspec": {
   "display_name": "Python 3.8.1 64-bit",
   "name": "python381jvsc74a57bd056ac58065b2266701679218e106e5dd7d4401c2eb4a42bc1d3e1b09ef3d7be68"
  },
  "language_info": {
   "codemirror_mode": {
    "name": "ipython",
    "version": 3
   },
   "file_extension": ".py",
   "mimetype": "text/x-python",
   "name": "python",
   "nbconvert_exporter": "python",
   "pygments_lexer": "ipython3",
   "version": "3.8.1"
  },
  "metadata": {
   "interpreter": {
    "hash": "56ac58065b2266701679218e106e5dd7d4401c2eb4a42bc1d3e1b09ef3d7be68"
   }
  },
  "orig_nbformat": 3
 },
 "nbformat": 4,
 "nbformat_minor": 4
}